{
 "cells": [
  {
   "attachments": {},
   "cell_type": "markdown",
   "metadata": {},
   "source": [
    "# Convolutional Neural Networks\n",
    "\n",
    "* When there is a need of processing and  understanding spatial information FC Layers generally fail\n",
    "* In such use cases we typically use CNNs\n",
    "* Lets look at a simple visualization https://github.com/vdumoulin/\n",
    "\n",
    "* This is what really happens with multiple filters and channels in a CNN\n",
    "\n",
    "<p align=\"center\">\n",
    "<img src=\"./doc_imgs/cnn.png\" width=\"\" height=\"400\" />\n",
    "</p>\n",
    "\n",
    "* Each filter ideally captures a different feature representation of the image\n",
    "\n",
    "* Where the ouptut height and width is determined by the following formula:\n",
    "$$\n",
    "H_{out} = \\frac{H_{in} + 2 \\times \\text{padding}[0] - \\text{dilation}[0] \\times (\\text{kernel\\_size}[0] - 1) - 1}{\\text{stride}[0]} + 1\n",
    "\n",
    "\\\\[0.25in]\n",
    "\n",
    "\n",
    "\n",
    "W_{out} = \\frac{W_{in} + 2 \\times \\text{padding}[1] - \\text{dilation}[1] \\times (\\text{kernel\\_size}[1] - 1) - 1}{\\text{stride}[1]} + 1\n",
    "\n",
    "$$\n",
    "\n"
   ]
  },
  {
   "attachments": {},
   "cell_type": "markdown",
   "metadata": {},
   "source": [
    "## Implementation in PyTorch"
   ]
  },
  {
   "cell_type": "code",
   "execution_count": 36,
   "metadata": {},
   "outputs": [],
   "source": [
    "# The necessary imports\n",
    "\n",
    "import torchmetrics\n",
    "import torch.nn as nn\n",
    "import torch.nn.functional as F\n",
    "import torch\n",
    "from torch import optim\n",
    "from torchvision import datasets, transforms, models, utils\n",
    "from torch.utils.data import DataLoader\n",
    "\n",
    "import matplotlib.pyplot as plt\n",
    "\n",
    "import pytorch_lightning as pl\n",
    "from pytorch_lightning.callbacks.progress import TQDMProgressBar\n",
    "\n",
    "import einops\n",
    "\n",
    "\n",
    "# Here we dfine a module that can that can be reused/stacked\n",
    "# according to our desired output channels/filters\n",
    "class ConvLayer(nn.Module):\n",
    "    def __init__(self,\n",
    "            in_channels,\n",
    "            out_channels,\n",
    "            kernel_size= (3,3),\n",
    "            activationFn = nn.ReLU(),\n",
    "            padding= 0):\n",
    "\n",
    "        super().__init__()\n",
    "\n",
    "        self.cnn = nn.Sequential(\n",
    "            nn.Conv2d(\n",
    "                    in_channels=in_channels,\n",
    "                    out_channels=out_channels,\n",
    "                    padding=padding,\n",
    "                    kernel_size=kernel_size\n",
    "                ),\n",
    "\n",
    "                activationFn,\n",
    "                nn.MaxPool2d(2,2)\n",
    "        )\n",
    "\n",
    "    def forward(self, x):\n",
    "        return self.cnn(x)"
   ]
  },
  {
   "attachments": {},
   "cell_type": "markdown",
   "metadata": {},
   "source": [
    "## Stacking the above defined layers to build a simple CNN"
   ]
  },
  {
   "cell_type": "code",
   "execution_count": 37,
   "metadata": {},
   "outputs": [
    {
     "name": "stdout",
     "output_type": "stream",
     "text": [
      "Input Size:  torch.Size([1, 3, 28, 28])  Output Size:  torch.Size([1, 6, 14, 14])\n",
      "Input Size:  torch.Size([1, 6, 14, 14])  Output Size:  torch.Size([1, 16, 7, 7])\n"
     ]
    },
    {
     "data": {
      "text/plain": [
       "torch.Size([1, 10])"
      ]
     },
     "execution_count": 37,
     "metadata": {},
     "output_type": "execute_result"
    }
   ],
   "source": [
    "class simpleCNN(nn.Module):\n",
    "    def __init__(self, filters= [3, 6, 16], num_classes= 10):\n",
    "        super().__init__()\n",
    "\n",
    "        self.cnn = nn.Sequential()\n",
    "        \n",
    "        for f in range(len(filters) - 1):\n",
    "            self.cnn.append(ConvLayer(in_channels= filters[f], out_channels= filters[f+1], padding= 1))\n",
    "        \n",
    "        self.final = nn.Sequential(\n",
    "            nn.LazyLinear(128),\n",
    "            nn.ReLU(),\n",
    "            nn.LazyLinear(num_classes)\n",
    "            )\n",
    "\n",
    "    def forward(self, x, disp=False):\n",
    "        in_x = x.detach()\n",
    "        for c in self.cnn:\n",
    "            x = c(x)\n",
    "            if disp==True:\n",
    "                print(\"Input Size: \", in_x.size(), \" Output Size: \", x.size())\n",
    "                in_x = x.detach()\n",
    "        \n",
    "        x = einops.rearrange(x, 'b c h w -> b (c h w)')\n",
    "        x = self.final(x)\n",
    "        return(x)\n",
    "\n",
    "# Lets check the output with a randomly defined tensor\n",
    "# recall that the input shape must satisfy NCHW tensor format\n",
    "\n",
    "t = torch.randn(1,3,28,28) # Random tensor in NCHW format\n",
    "model = simpleCNN() #instantiate model object\n",
    "\n",
    "out = model(t, disp=True) # Forward Pass\n",
    "out.size() #print shape of processed tensor"
   ]
  },
  {
   "attachments": {},
   "cell_type": "markdown",
   "metadata": {},
   "source": [
    "**Define the PL Trainer Class**"
   ]
  },
  {
   "cell_type": "code",
   "execution_count": 38,
   "metadata": {},
   "outputs": [
    {
     "name": "stderr",
     "output_type": "stream",
     "text": [
      "Global seed set to 42\n"
     ]
    }
   ],
   "source": [
    "\n",
    "dataset_path = '/home/ibrahim/Projects/Datasets'\n",
    "\n",
    "pl.seed_everything(42) # Use this to reproduce same results everytime\n",
    "torch.backends.cudnn.determinstic = True\n",
    "torch.backends.cudnn.benchmark = False\n",
    "\n",
    "device = torch.device(\"cuda:0\") if torch.cuda.is_available() else torch.device(\"cpu\")\n",
    "\n",
    "class CNN(pl.LightningModule):\n",
    "    def __init__(self, model, num_classes= 10):\n",
    "        super().__init__()\n",
    "\n",
    "        self.train_bs = 64 \n",
    "        self.val_bs  = 16\n",
    "\n",
    "        self.loss  = nn.CrossEntropyLoss()\n",
    "        self.model = model(num_classes= num_classes)\n",
    "        self.acc   = torchmetrics.Accuracy()\n",
    "\n",
    "        self.transform = transforms.Compose(\n",
    "                            [transforms.ToTensor(),\n",
    "                            transforms.Normalize((0.5, 0.5, 0.5), (0.5, 0.5, 0.5))]\n",
    "                            )\n",
    "\n",
    "\n",
    "    def forward(self, x):\n",
    "        return self.model(x)\n",
    "\n",
    "    def configure_optimizers(self, lr = 1e-3):\n",
    "        return optim.Adam(self.parameters(), lr = lr)\n",
    "\n",
    "    def training_step(self, batch, batch_idx):\n",
    "        x, y = batch\n",
    "        out_logits = self.model(x)\n",
    "        loss = self.loss(out_logits, y)\n",
    "\n",
    "        train_acc  = self.acc(out_logits, y)\n",
    "\n",
    "        # self.log(\"train_loss\", loss, prog_bar=True, on_epoch= True)\n",
    "        self.log(\"train_acc\", train_acc, prog_bar=True, on_epoch= True)\n",
    "        return loss\n",
    "\n",
    "    def validation_step(self, batch, batch_idx):\n",
    "        x, y = batch\n",
    "        out_logits = self.model(x)\n",
    "        \n",
    "        # loss = self.loss(out_logits, y)\n",
    "        val_acc = self.acc(out_logits, y)\n",
    "\n",
    "        self.log(\"val_acc\", val_acc, prog_bar=True, on_epoch=True)\n",
    "\n",
    "    def train_dataloader(self):\n",
    "        trainset = datasets.CIFAR10(root= dataset_path, train=True,\n",
    "                                        download=True, transform=self.transform)\n",
    "\n",
    "        train_loader = DataLoader(trainset, batch_size=self.train_bs,\n",
    "                                                shuffle=True, num_workers=4)\n",
    "\n",
    "        return train_loader\n",
    "\n",
    "    def val_dataloader(self):\n",
    "        val_set = datasets.CIFAR10(root= dataset_path, train=True,\n",
    "                                        download=True, transform=self.transform)\n",
    "        val_loader = DataLoader(val_set, batch_size=self.val_bs,\n",
    "                                                shuffle=False, num_workers=4)\n",
    "\n",
    "        return val_loader"
   ]
  },
  {
   "attachments": {},
   "cell_type": "markdown",
   "metadata": {},
   "source": [
    "**Lets look at the dataset**\n"
   ]
  },
  {
   "cell_type": "code",
   "execution_count": 39,
   "metadata": {},
   "outputs": [
    {
     "name": "stdout",
     "output_type": "stream",
     "text": [
      "Files already downloaded and verified\n"
     ]
    },
    {
     "name": "stderr",
     "output_type": "stream",
     "text": [
      "Clipping input data to the valid range for imshow with RGB data ([0..1] for floats or [0..255] for integers).\n"
     ]
    },
    {
     "data": {
      "image/png": "[encoded data removed]",
      "text/plain": [
       "<Figure size 640x480 with 1 Axes>"
      ]
     },
     "metadata": {},
     "output_type": "display_data"
    },
    {
     "data": {
      "text/plain": [
       "tensor([6, 9, 9, 4, 1, 1, 2, 7])"
      ]
     },
     "execution_count": 39,
     "metadata": {},
     "output_type": "execute_result"
    }
   ],
   "source": [
    "model = CNN(model= simpleCNN)\n",
    "loader = model.val_dataloader()\n",
    "batch = next(iter(loader))\n",
    "batch[0].size(), batch[1].size()\n",
    "\n",
    "grid_image = utils.make_grid(batch[0][0:8], nrow=4)\n",
    "plt.imshow(grid_image.permute(1,2,0))\n",
    "plt.show()\n",
    "\n",
    "\n",
    "# classes = ('plane', 'car', 'bird', 'cat', 'deer', 'dog', 'frog', 'horse', 'ship', 'truck')\n",
    "batch[1][0:8]\n",
    "\n"
   ]
  },
  {
   "cell_type": "code",
   "execution_count": 40,
   "metadata": {},
   "outputs": [
    {
     "name": "stderr",
     "output_type": "stream",
     "text": [
      "GPU available: True (cuda), used: True\n",
      "TPU available: False, using: 0 TPU cores\n",
      "IPU available: False, using: 0 IPUs\n",
      "HPU available: False, using: 0 HPUs\n",
      "LOCAL_RANK: 0 - CUDA_VISIBLE_DEVICES: [0]\n",
      "\n",
      "  | Name  | Type             | Params\n",
      "-------------------------------------------\n",
      "0 | loss  | CrossEntropyLoss | 0     \n",
      "1 | model | simpleCNN        | 1.0 K \n",
      "2 | acc   | Accuracy         | 0     \n",
      "-------------------------------------------\n",
      "1.0 K     Trainable params\n",
      "0         Non-trainable params\n",
      "1.0 K     Total params\n",
      "0.004     Total estimated model params size (MB)\n"
     ]
    },
    {
     "name": "stdout",
     "output_type": "stream",
     "text": [
      "Sanity Checking: 0it [00:00, ?it/s]Files already downloaded and verified\n",
      "Files already downloaded and verified                                      \n",
      "Epoch 1: 100%|██████████| 3907/3907 [00:10<00:00, 372.43it/s, loss=1.26, train_acc_step=0.562, val_acc=0.583, train_acc_epoch=0.558]"
     ]
    },
    {
     "name": "stderr",
     "output_type": "stream",
     "text": [
      "`Trainer.fit` stopped: `max_epochs=2` reached.\n"
     ]
    },
    {
     "name": "stdout",
     "output_type": "stream",
     "text": [
      "Epoch 1: 100%|██████████| 3907/3907 [00:10<00:00, 372.40it/s, loss=1.26, train_acc_step=0.562, val_acc=0.583, train_acc_epoch=0.558]\n"
     ]
    }
   ],
   "source": [
    "trainer = pl.Trainer(\n",
    "    gpus=1,\n",
    "    max_epochs=2,\n",
    "    callbacks=[TQDMProgressBar(refresh_rate=20)],\n",
    "    enable_checkpointing= False,\n",
    "    logger= False\n",
    ")\n",
    "\n",
    "trainer.fit(model)\n"
   ]
  },
  {
   "attachments": {},
   "cell_type": "markdown",
   "metadata": {},
   "source": [
    "## Going Deeper\n",
    "\n",
    "The name deep learning suggests that by stacking numerous layers we might get better and better results\n",
    "generally this is not the case. On the contrary we get poorer results and is known as the degredation problem\n",
    "\n",
    "These problems arise due to a number of reasons, some of which are:\n",
    "* overfitting/underfitting\n",
    "* poor generalization\n",
    "* vanishing/exploding gradients\n",
    "* poor feature capture and representation\n",
    "\n",
    "To counter these problems there are numerous architectures and hacks that have been adopted by the industry.\n",
    "In the following we will discuss a few architectures and see the results for one of these."
   ]
  },
  {
   "attachments": {},
   "cell_type": "markdown",
   "metadata": {},
   "source": [
    "## Inception Net\n",
    "\n",
    "The following architecture was proposed by Google.\n",
    "\n",
    "<p align=\"center\">\n",
    "<img src=\"./doc_imgs/inception_net.png\" width=\"\" height=\"400\" />\n",
    "</p>\n"
   ]
  },
  {
   "attachments": {},
   "cell_type": "markdown",
   "metadata": {},
   "source": [
    "### Skip Connections\n",
    "\n",
    "* Generally we can counter exploding gradients through:\n",
    "    * Normalized/Standardized inputs\n",
    "    * Proper activation functions \n",
    "    * Proper initialization of layers (instead of uniform randomness use some other technique, e.g. Xavier, Kaiming, etc. )\n",
    "\n",
    "* To counter the problem of vanishing gradients one popular technique is called the skip connection (aka residual layer)\n",
    "\n",
    "* These layers also help capture better feature representation as there is some information that was captured in the initial layers and we would like to allow the later layers to also learn from them. \n",
    "\n",
    "<p align=\"center\">\n",
    "<img src=\"./doc_imgs/skip_connection.png\" width=\"\" height=\"250\" />\n",
    "</p>\n",
    "\n",
    "\n"
   ]
  },
  {
   "attachments": {},
   "cell_type": "markdown",
   "metadata": {},
   "source": [
    "## ResNet Model\n",
    "\n",
    "Stack residual layers together!\n",
    "\n",
    "<p align=\"center\">\n",
    "<img src=\"./doc_imgs/resnet34.png\" width=\"\" height=\"200\" />\n",
    "</p>"
   ]
  },
  {
   "attachments": {},
   "cell_type": "markdown",
   "metadata": {},
   "source": [
    "## Transfer Learning\n",
    "\n",
    "Add custom classifier layer on top of a pretrained model\n",
    "\n",
    "\n",
    "<p align=\"middle\">\n",
    "  <img src=\"./doc_imgs/transfer_learning_1.png\" width=\"500\" height=\"300\"/>\n",
    "  <img src=\"./doc_imgs/transfer_learning_2.png\" width=\"500\" height=\"300\"/> \n",
    "</p>\n",
    "\n",
    "\n"
   ]
  },
  {
   "cell_type": "code",
   "execution_count": 42,
   "metadata": {},
   "outputs": [
    {
     "name": "stderr",
     "output_type": "stream",
     "text": [
      "GPU available: True (cuda), used: True\n",
      "TPU available: False, using: 0 TPU cores\n",
      "IPU available: False, using: 0 IPUs\n",
      "HPU available: False, using: 0 HPUs\n",
      "LOCAL_RANK: 0 - CUDA_VISIBLE_DEVICES: [0]\n",
      "\n",
      "  | Name  | Type             | Params\n",
      "-------------------------------------------\n",
      "0 | loss  | CrossEntropyLoss | 0     \n",
      "1 | model | resnetCNN        | 11.7 M\n",
      "2 | acc   | Accuracy         | 0     \n",
      "-------------------------------------------\n",
      "11.7 M    Trainable params\n",
      "0         Non-trainable params\n",
      "11.7 M    Total params\n",
      "46.758    Total estimated model params size (MB)\n"
     ]
    },
    {
     "name": "stdout",
     "output_type": "stream",
     "text": [
      "Sanity Checking: 0it [00:00, ?it/s]Files already downloaded and verified\n",
      "Files already downloaded and verified                                      \n",
      "Epoch 1: 100%|██████████| 3907/3907 [00:19<00:00, 197.21it/s, loss=0.885, train_acc_step=0.812, val_acc=0.704, train_acc_epoch=0.644]"
     ]
    },
    {
     "name": "stderr",
     "output_type": "stream",
     "text": [
      "`Trainer.fit` stopped: `max_epochs=2` reached.\n"
     ]
    },
    {
     "name": "stdout",
     "output_type": "stream",
     "text": [
      "Epoch 1: 100%|██████████| 3907/3907 [00:19<00:00, 197.20it/s, loss=0.885, train_acc_step=0.812, val_acc=0.704, train_acc_epoch=0.644]\n"
     ]
    }
   ],
   "source": [
    "# Defining a resnet layer and adding a custom classifier layer on top of it\n",
    "\n",
    "class resnetCNN(nn.Module):\n",
    "    def __init__(self, num_classes= 10, pretrained= False):\n",
    "        super().__init__()\n",
    "        self.resnet = models.resnet18(pretrained= pretrained)\n",
    "        self.linear = nn.LazyLinear(num_classes)\n",
    "        \n",
    "    def forward(self, x):\n",
    "        x = self.resnet(x)\n",
    "        x = self.linear(x)\n",
    "        return x\n",
    "\n",
    "model = CNN(model=resnetCNN)\n",
    "\n",
    "trainer = pl.Trainer(\n",
    "    gpus=1,\n",
    "    max_epochs=2,\n",
    "    callbacks=[TQDMProgressBar(refresh_rate=20)],\n",
    "    enable_checkpointing= False,\n",
    "    logger= False\n",
    ")\n",
    "\n",
    "trainer.fit(model)\n"
   ]
  },
  {
   "attachments": {},
   "cell_type": "markdown",
   "metadata": {},
   "source": [
    "### We achieved almost an acc increase of almost 15% by using transfer learning with resnet as a backbone!\n",
    "\n",
    "## Logging\n",
    "\n",
    "* Tensorboard\n",
    "* Checkpoint saving\n",
    "* Loss curves\n",
    "\n",
    "<p align=\"center\">\n",
    "<img src=\"./doc_imgs/loss_curves.png\" width=\"\" height=\"\" />\n",
    "</p>"
   ]
  },
  {
   "attachments": {},
   "cell_type": "markdown",
   "metadata": {},
   "source": [
    "### Batch Normalization\n",
    "A method to improve training and overall network performance. This method helps counter exploding gradients and helps train networks faster. The following are the steps for batchNorm\n",
    "\n",
    "1. Standardize output $$z = \\frac{(x-\\mu)}{\\sigma}$$\n",
    "2. Multiply and add $z$ with learnable parameters $\\gamma$ and $\\beta$\n",
    "$$\n",
    "z_{bn} = \\frac{z \\times \\gamma}{\\beta}\n",
    "$$\n",
    "\n",
    "### Dropout\n",
    "Randomly kill a percentage of neurons in any selected layer. This provides an easy method for regularization\n"
   ]
  },
  {
   "attachments": {},
   "cell_type": "markdown",
   "metadata": {},
   "source": [
    "\n",
    "\n",
    "<p align=\"middle\">\n",
    "  <img src=\"./doc_imgs/Dropout.png\" width=\"500\" height=\"300\"/>\n",
    "  <img src=\"./doc_imgs/batchNorm.png\" width=\"500\" height=\"300\"/> \n",
    "</p>\n"
   ]
  },
  {
   "attachments": {},
   "cell_type": "markdown",
   "metadata": {},
   "source": [
    "### Some notes on improving performance of neural net performance\n",
    "\n",
    "**Some Useful Practical Tips:**\n",
    "1. Use ReLu \n",
    "2. Normalize/Standardize inputs\n",
    "3. Decrease LR with epochs using a scheduler\n",
    "4. BatchNorm/LayerNorm etc\n",
    "5. Regularization\n",
    "6. Shuffle Training Samples\n",
    "\n",
    "Recall the problem of overfitting and underfitting\n",
    "\n",
    "**Remedies for Underfitting:**\n",
    "* Increase layers (choose a bigger model architecture)\n",
    "* Train for a longer duration\n",
    "* Experiment with different architectures\n",
    "* LR Decay\n",
    "* Batch Norm\n",
    "\n",
    "**Remedies for Overfitting:**\n",
    "* Increase data\n",
    "* Again, model is too complex for this data (it is learning the dataset)\n",
    "* Regularization:\n",
    "    * L1 + L2 Norm\n",
    "    * Dropout\n",
    "* Data augmentation\n",
    "* Early stopping of experiments"
   ]
  }
 ],
 "metadata": {
  "kernelspec": {
   "display_name": "Python 3.8.15 ('dl')",
   "language": "python",
   "name": "python3"
  },
  "language_info": {
   "codemirror_mode": {
    "name": "ipython",
    "version": 3
   },
   "file_extension": ".py",
   "mimetype": "text/x-python",
   "name": "python",
   "nbconvert_exporter": "python",
   "pygments_lexer": "ipython3",
   "version": "3.8.15 (default, Nov  4 2022, 20:59:55) \n[GCC 11.2.0]"
  },
  "orig_nbformat": 4,
  "vscode": {
   "interpreter": {
    "hash": "3a77b3f6b54150433cb32c6ba4a5906806200d1f5473f6dbf041d5a5759c3200"
   }
  }
 },
 "nbformat": 4,
 "nbformat_minor": 2
}
