{
 "cells": [
  {
   "attachments": {},
   "cell_type": "markdown",
   "metadata": {},
   "source": [
    "# Image Segmentation\n",
    "\n",
    "\n",
    "<p align=\"center\">\n",
    "<img src=\"./doc_imgs/segmentation_1.png\" width=\"\" height=\"350\" />\n",
    "</p>\n",
    "\n",
    "\n",
    "### The segmentation objective is achieved by using a network that takes in an image and outputs an image as well"
   ]
  },
  {
   "attachments": {},
   "cell_type": "markdown",
   "metadata": {},
   "source": [
    "# UNet\n",
    "\n",
    "<p align=\"center\">\n",
    "<img src=\"./doc_imgs/unet.png\" width=\"\" height=\"500\" />\n",
    "</p>\n"
   ]
  },
  {
   "attachments": {},
   "cell_type": "markdown",
   "metadata": {},
   "source": [
    "# Implementation in PyTorch"
   ]
  },
  {
   "cell_type": "code",
   "execution_count": 1,
   "metadata": {},
   "outputs": [
    {
     "name": "stderr",
     "output_type": "stream",
     "text": [
      "/home/ibrahim/anaconda3/envs/dl/lib/python3.8/site-packages/tqdm/auto.py:22: TqdmWarning: IProgress not found. Please update jupyter and ipywidgets. See https://ipywidgets.readthedocs.io/en/stable/user_install.html\n",
      "  from .autonotebook import tqdm as notebook_tqdm\n"
     ]
    }
   ],
   "source": [
    "import pytorch_lightning as pl\n",
    "from pytorch_lightning.callbacks.progress import TQDMProgressBar\n",
    "\n",
    "import torchmetrics\n",
    "import torch.nn as nn\n",
    "import torch.nn.functional as F\n",
    "import torch\n",
    "from torch import optim\n",
    "\n",
    "import torchvision\n",
    "from torchvision.transforms.functional import center_crop\n",
    "from torchvision import datasets, transforms\n",
    "from torch.utils.data import DataLoader\n",
    "from segmentation_models_pytorch.losses.dice import DiceLoss\n",
    "\n",
    "import numpy as np\n",
    "\n",
    "import einops\n",
    "import random\n",
    "import os\n",
    "import matplotlib.pyplot as plt\n",
    "from PIL import Image\n",
    "\n",
    "import tensorboardX\n"
   ]
  },
  {
   "cell_type": "code",
   "execution_count": 2,
   "metadata": {},
   "outputs": [],
   "source": [
    "class ConvLayers(nn.Module):\n",
    "    def __init__(self, out_channels, mode= 'down'):\n",
    "        super().__init__()\n",
    "        if mode == 'up':\n",
    "            self.conv = nn.Sequential(\n",
    "                nn.LazyConv2d(out_channels=out_channels, kernel_size=(3,3), padding = 'same'),\n",
    "                nn.ReLU(),\n",
    "                nn.Dropout2d(0.3),\n",
    "                nn.LazyConv2d(out_channels=out_channels, kernel_size=(3,3), padding = 'same'),\n",
    "                nn.ReLU(),\n",
    "                nn.Dropout2d(0.3)\n",
    "            )\n",
    "        else:\n",
    "            self.conv = nn.Sequential(\n",
    "                nn.MaxPool2d(kernel_size=(2,2), stride=2),\n",
    "                nn.LazyConv2d(out_channels=out_channels, kernel_size=(3,3), padding = 'same'),\n",
    "                nn.ReLU(),\n",
    "                nn.Dropout2d(0.3),\n",
    "                nn.LazyConv2d(out_channels=out_channels, kernel_size=(3,3), padding = 'same'),\n",
    "                nn.ReLU(),\n",
    "                nn.Dropout2d(0.3)\n",
    "            )\n",
    "    def forward(self, x):\n",
    "        return self.conv(x)"
   ]
  },
  {
   "cell_type": "code",
   "execution_count": 3,
   "metadata": {},
   "outputs": [],
   "source": [
    "class upSampleLayers(nn.Module):\n",
    "    def __init__(self, out_channels):\n",
    "        super().__init__()\n",
    "        self.up   = nn.LazyConvTranspose2d(out_channels=out_channels, kernel_size=(2,2), stride=2)\n",
    "        self.conv = ConvLayers(out_channels=out_channels, mode='up')\n",
    "\n",
    "    def forward(self, x, skip):\n",
    "        x    = self.up(x)\n",
    "        skip = center_crop(skip, (x.size(-1), x.size(-1)))\n",
    "        x    = torch.cat((skip, x), dim= 1)\n",
    "        x    = self.conv(x)\n",
    "        return x\n"
   ]
  },
  {
   "cell_type": "code",
   "execution_count": 4,
   "metadata": {},
   "outputs": [],
   "source": [
    "class Unet(nn.Module):\n",
    "    def __init__(self, out_channels= 3):\n",
    "        super().__init__()\n",
    "        self.down_channels = [128, 256, 512, 1024]\n",
    "        self.up_channels   = self.down_channels[::-1]\n",
    "        self.up_channels.pop(0)\n",
    "        self.up_channels.append(64)\n",
    "        self.down_sample = nn.ModuleList(\n",
    "            [ConvLayers(i) for i in self.down_channels[:-1]]\n",
    "        )\n",
    "        self.down_sample.insert(0, nn.Sequential(\n",
    "            nn.LazyConv2d(64, kernel_size=(3,3), padding = 'same'),\n",
    "            nn.ReLU(),\n",
    "            nn.Dropout2d(0.3),\n",
    "            nn.LazyConv2d(64, kernel_size=(3,3), padding = 'same'),\n",
    "            nn.ReLU(),\n",
    "            nn.Dropout2d(0.3)\n",
    "        ))\n",
    "        self.trace = []\n",
    "        self.middle = nn.Sequential(\n",
    "            ConvLayers(self.down_channels[-1])\n",
    "        )\n",
    "        self.up_sample = nn.ModuleList(\n",
    "            [upSampleLayers(i) for i in self.up_channels]\n",
    "        )\n",
    "        self.final_conv = nn.LazyConv2d(out_channels= out_channels, kernel_size=(1,1), padding = 'same')\n",
    "\n",
    "    def forward(self, x):\n",
    "        for layer in self.down_sample:\n",
    "            x = layer(x)\n",
    "            self.trace.append(x)\n",
    "        self.trace.reverse()\n",
    "        x = self.middle(x)\n",
    "        \n",
    "        for i, layer in enumerate(self.up_sample):\n",
    "            skip = self.trace.pop(0)\n",
    "            x = layer(x, skip)\n",
    "        x = self.final_conv(x)\n",
    "        return x"
   ]
  },
  {
   "cell_type": "code",
   "execution_count": 5,
   "metadata": {},
   "outputs": [
    {
     "name": "stderr",
     "output_type": "stream",
     "text": [
      "Global seed set to 42\n"
     ]
    }
   ],
   "source": [
    "pl.seed_everything(42)\n",
    "\n",
    "# Ensure that all operations are deterministic on GPU (if used) for reproducibility\n",
    "torch.backends.cudnn.determinstic = True\n",
    "torch.backends.cudnn.benchmark = False\n",
    "\n",
    "class GenerateCallback(pl.Callback):\n",
    "    def __init__(self, input_imgs, every_n_epochs=1):\n",
    "        super().__init__()\n",
    "        self.input_imgs = input_imgs  # Images to reconstruct during training\n",
    "        # Only save those images every N epochs (otherwise tensorboard gets quite large)\n",
    "        self.every_n_epochs = every_n_epochs\n",
    "\n",
    "    def on_train_epoch_end(self, trainer, pl_module):\n",
    "        print(\" >>> New Samples For Display\")\n",
    "        if trainer.current_epoch % self.every_n_epochs == 0:\n",
    "            # Reconstruct images\n",
    "            input_imgs = self.input_imgs.to(pl_module.device)\n",
    "            with torch.no_grad():\n",
    "                pl_module.eval()\n",
    "                reconst_imgs = pl_module(input_imgs)\n",
    "                pl_module.train()\n",
    "\n",
    "            # Plot and add to tensorboard\n",
    "            reconst_imgs = reconst_imgs.argmax(1).unsqueeze(1).float()\n",
    "            grid_orig = torchvision.utils.make_grid(input_imgs, nrow=2, normalize=True, range=(-1, 1))\n",
    "            grid_seg = torchvision.utils.make_grid(reconst_imgs, nrow=2, normalize=True, range=(-1, 1))\n",
    "\n",
    "            trainer.logger.experiment.add_image(\"Original\", grid_orig, global_step=trainer.global_step)\n",
    "            trainer.logger.experiment.add_image(\"Reconstructions\", grid_seg, global_step=trainer.global_step)\n",
    "\n",
    "class AE(pl.LightningModule):\n",
    "    def __init__(self, model):\n",
    "        super().__init__()\n",
    "        self.train_bs = 128\n",
    "        self.val_bs  = 64\n",
    "\n",
    "        self.CE        = nn.CrossEntropyLoss()\n",
    "        self.dice_loss = DiceLoss(mode= 'multiclass', from_logits = True)\n",
    "\n",
    "        self.model = model()\n",
    "\n",
    "        self.transform = transforms.Compose(\n",
    "                    [   transforms.Resize((64, 64)),\n",
    "                        transforms.ToTensor()\n",
    "                    ])\n",
    "\n",
    "        self.transform_target = transforms.Compose(\n",
    "                    [   transforms.Resize((64, 64)),\n",
    "                        transforms.ToTensor()\n",
    "                    ])\n",
    "\n",
    "\n",
    "    def forward(self, x):\n",
    "        return self.model(x)\n",
    "\n",
    "    def configure_optimizers(self, lr = 1e-3):\n",
    "        return optim.Adam(self.parameters(), lr = lr)\n",
    "    \n",
    "    def training_step(self, batch, batch_idx):\n",
    "        x, y = batch\n",
    "        y = y * 255\n",
    "        y = y - 1\n",
    "        \n",
    "        out_logits = self.model(x)\n",
    "        ce_loss = self.CE(out_logits, y.squeeze().long())\n",
    "        loss    = self.dice_loss(out_logits, y.squeeze().long()) #+ ce_loss\n",
    "\n",
    "        self.log(\"train loss\", loss.item(), prog_bar=True, on_epoch= True)\n",
    "        return loss\n",
    "\n",
    "    def validation_step(self, batch, batch_idx):\n",
    "        x, y = batch\n",
    "        y = y * 255\n",
    "        y = y - 1\n",
    "\n",
    "        out_logits = self.model(x)\n",
    "    \n",
    "        ce_loss = self.CE(out_logits, y.squeeze().long())\n",
    "        loss    = self.dice_loss(out_logits, y.squeeze().long()) + ce_loss\n",
    "        self.log(\"val_loss\", loss.item(), prog_bar=True, on_epoch= True)\n",
    "\n",
    "\n",
    "    def train_dataloader(self):\n",
    "        trainset = datasets.OxfordIIITPet(root= '/home/ibrahim/Projects/Datasets/',\n",
    "                                            download=True, target_types='segmentation',\n",
    "                                            transform= self.transform,\n",
    "                                            target_transform= self.transform_target)\n",
    "\n",
    "        train_loader = DataLoader(trainset, batch_size=self.train_bs,\n",
    "                                                shuffle=True, num_workers=6, drop_last= True)\n",
    "\n",
    "        return train_loader\n",
    "\n",
    "    def val_dataloader(self):\n",
    "        val_set = datasets.OxfordIIITPet(root= '/home/ibrahim/Projects/Datasets/',\n",
    "                                            download=True, target_types='segmentation', split= 'test',\n",
    "                                            transform= self.transform,\n",
    "                                            target_transform= self.transform_target)\n",
    "                                            \n",
    "        val_loader = DataLoader(val_set, batch_size=self.val_bs,\n",
    "                                                shuffle=True, num_workers=6, drop_last=True)\n",
    "\n",
    "        return val_loader"
   ]
  },
  {
   "attachments": {},
   "cell_type": "markdown",
   "metadata": {},
   "source": [
    "# Dataset\n",
    "\n",
    "Each sample is an image of a pet and the corresponding target is the segmented image"
   ]
  },
  {
   "cell_type": "code",
   "execution_count": 6,
   "metadata": {},
   "outputs": [
    {
     "name": "stderr",
     "output_type": "stream",
     "text": [
      "/home/ibrahim/anaconda3/envs/dl/lib/python3.8/site-packages/torch/nn/modules/lazy.py:180: UserWarning: Lazy modules are a new feature under heavy development so changes to the API or functionality can happen at any moment.\n",
      "  warnings.warn('Lazy modules are a new feature under heavy development '\n"
     ]
    },
    {
     "data": {
      "text/plain": [
       "<matplotlib.image.AxesImage at 0x7fbfef8165b0>"
      ]
     },
     "execution_count": 6,
     "metadata": {},
     "output_type": "execute_result"
    },
    {
     "data": {
      "image/png": "[encoded data removed]",
      "text/plain": [
       "<Figure size 640x480 with 2 Axes>"
      ]
     },
     "metadata": {},
     "output_type": "display_data"
    }
   ],
   "source": [
    "model = AE(model=Unet)\n",
    "batch = next(iter(model.val_dataloader()))\n",
    "\n",
    "sample, target = batch\n",
    "\n",
    "fig, ax = plt.subplots(1,2)\n",
    "ax[0].imshow(sample[0].permute(1,2,0).numpy())\n",
    "ax[1].imshow(target[0].permute(1,2,0).numpy())\n"
   ]
  },
  {
   "cell_type": "code",
   "execution_count": 7,
   "metadata": {},
   "outputs": [
    {
     "name": "stderr",
     "output_type": "stream",
     "text": [
      "/home/ibrahim/anaconda3/envs/dl/lib/python3.8/site-packages/pytorch_lightning/trainer/connectors/accelerator_connector.py:446: LightningDeprecationWarning: Setting `Trainer(gpus=1)` is deprecated in v1.7 and will be removed in v2.0. Please use `Trainer(accelerator='gpu', devices=1)` instead.\n",
      "  rank_zero_deprecation(\n",
      "GPU available: True (cuda), used: True\n",
      "TPU available: False, using: 0 TPU cores\n",
      "IPU available: False, using: 0 IPUs\n",
      "HPU available: False, using: 0 HPUs\n",
      "LOCAL_RANK: 0 - CUDA_VISIBLE_DEVICES: [0]\n",
      "/home/ibrahim/anaconda3/envs/dl/lib/python3.8/site-packages/pytorch_lightning/utilities/model_summary/model_summary.py:411: UserWarning: A layer with UninitializedParameter was found. Thus, the total number of parameters detected may be inaccurate.\n",
      "  warning_cache.warn(\n",
      "\n",
      "  | Name      | Type             | Params\n",
      "-----------------------------------------------\n",
      "0 | CE        | CrossEntropyLoss | 0     \n",
      "1 | dice_loss | DiceLoss         | 0     \n",
      "2 | model     | Unet             | 0     \n",
      "-----------------------------------------------\n",
      "0         Trainable params\n",
      "0         Non-trainable params\n",
      "0         Total params\n",
      "0.000     Total estimated model params size (MB)\n"
     ]
    },
    {
     "name": "stdout",
     "output_type": "stream",
     "text": [
      "Sanity Checking: 0it [00:00, ?it/s]"
     ]
    },
    {
     "name": "stderr",
     "output_type": "stream",
     "text": [
      "/home/ibrahim/anaconda3/envs/dl/lib/python3.8/site-packages/pytorch_lightning/trainer/connectors/data_connector.py:488: PossibleUserWarning: Your `val_dataloader`'s sampler has shuffling enabled, it is strongly recommended that you turn shuffling off for val/test/predict dataloaders.\n",
      "  rank_zero_warn(\n"
     ]
    },
    {
     "name": "stdout",
     "output_type": "stream",
     "text": [
      "                                                                           "
     ]
    },
    {
     "name": "stderr",
     "output_type": "stream",
     "text": [
      "/home/ibrahim/anaconda3/envs/dl/lib/python3.8/site-packages/pytorch_lightning/trainer/trainer.py:1558: PossibleUserWarning: The number of training batches (28) is smaller than the logging interval Trainer(log_every_n_steps=50). Set a lower value for log_every_n_steps if you want to see logs for the training epoch.\n",
      "  rank_zero_warn(\n"
     ]
    },
    {
     "name": "stdout",
     "output_type": "stream",
     "text": [
      "Epoch 0: 100%|██████████| 85/85 [00:08<00:00, 10.39it/s, loss=0.66, v_num=1, train loss_step=0.621, val_loss=1.690, train loss_epoch=0.667] >>> New Samples For Display\n",
      "Epoch 1: 100%|██████████| 85/85 [00:07<00:00, 10.79it/s, loss=0.518, v_num=1, train loss_step=0.508, val_loss=5.960, train loss_epoch=0.542] >>> New Samples For Display\n",
      "Epoch 2: 100%|██████████| 85/85 [00:08<00:00, 10.60it/s, loss=0.484, v_num=1, train loss_step=0.476, val_loss=11.50, train loss_epoch=0.485] >>> New Samples For Display\n",
      "Epoch 3: 100%|██████████| 85/85 [00:08<00:00, 10.31it/s, loss=0.482, v_num=1, train loss_step=0.479, val_loss=14.00, train loss_epoch=0.482] >>> New Samples For Display\n",
      "Epoch 4: 100%|██████████| 85/85 [00:07<00:00, 10.71it/s, loss=0.478, v_num=1, train loss_step=0.466, val_loss=11.00, train loss_epoch=0.479] >>> New Samples For Display\n",
      "Epoch 5: 100%|██████████| 85/85 [00:07<00:00, 10.70it/s, loss=0.459, v_num=1, train loss_step=0.459, val_loss=4.470, train loss_epoch=0.463] >>> New Samples For Display\n",
      "Epoch 6: 100%|██████████| 85/85 [00:08<00:00, 10.51it/s, loss=0.43, v_num=1, train loss_step=0.423, val_loss=5.230, train loss_epoch=0.434]  >>> New Samples For Display\n",
      "Epoch 7: 100%|██████████| 85/85 [00:07<00:00, 10.81it/s, loss=0.417, v_num=1, train loss_step=0.406, val_loss=6.190, train loss_epoch=0.419] >>> New Samples For Display\n",
      "Epoch 8: 100%|██████████| 85/85 [00:07<00:00, 10.87it/s, loss=0.405, v_num=1, train loss_step=0.403, val_loss=5.420, train loss_epoch=0.406] >>> New Samples For Display\n",
      "Epoch 9: 100%|██████████| 85/85 [00:07<00:00, 10.76it/s, loss=0.385, v_num=1, train loss_step=0.374, val_loss=6.850, train loss_epoch=0.388] >>> New Samples For Display\n",
      "Epoch 10: 100%|██████████| 85/85 [00:07<00:00, 10.67it/s, loss=0.372, v_num=1, train loss_step=0.353, val_loss=6.790, train loss_epoch=0.375] >>> New Samples For Display\n",
      "Epoch 11: 100%|██████████| 85/85 [00:07<00:00, 10.63it/s, loss=0.355, v_num=1, train loss_step=0.354, val_loss=7.320, train loss_epoch=0.359] >>> New Samples For Display\n",
      "Epoch 12: 100%|██████████| 85/85 [00:08<00:00, 10.36it/s, loss=0.344, v_num=1, train loss_step=0.328, val_loss=9.230, train loss_epoch=0.345] >>> New Samples For Display\n",
      "Epoch 13:  12%|█▏        | 10/85 [00:02<00:18,  4.09it/s, loss=0.339, v_num=1, train loss_step=0.348, val_loss=9.230, train loss_epoch=0.345]"
     ]
    }
   ],
   "source": [
    "model = AE(model= Unet)\n",
    "val_sample = next(iter(model.val_dataloader()))\n",
    "sample_images, _ = val_sample\n",
    "sample_images    = sample_images[:8,:,:,:]\n",
    "\n",
    "\n",
    "trainer = pl.Trainer(\n",
    "    gpus=1,\n",
    "    max_epochs=10,\n",
    "    callbacks=[\n",
    "        TQDMProgressBar(refresh_rate=20),\n",
    "        GenerateCallback(input_imgs= sample_images)\n",
    "        ],\n",
    "    enable_checkpointing= True,\n",
    "    logger= True\n",
    ")\n",
    "\n",
    "trainer.fit(model)\n"
   ]
  },
  {
   "cell_type": "markdown",
   "metadata": {},
   "source": []
  }
 ],
 "metadata": {
  "kernelspec": {
   "display_name": "dl",
   "language": "python",
   "name": "python3"
  },
  "language_info": {
   "codemirror_mode": {
    "name": "ipython",
    "version": 3
   },
   "file_extension": ".py",
   "mimetype": "text/x-python",
   "name": "python",
   "nbconvert_exporter": "python",
   "pygments_lexer": "ipython3",
   "version": "3.8.15"
  },
  "orig_nbformat": 4,
  "vscode": {
   "interpreter": {
    "hash": "3a77b3f6b54150433cb32c6ba4a5906806200d1f5473f6dbf041d5a5759c3200"
   }
  }
 },
 "nbformat": 4,
 "nbformat_minor": 2
}
